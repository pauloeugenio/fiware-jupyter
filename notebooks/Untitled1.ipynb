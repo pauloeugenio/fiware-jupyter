{
 "cells": [
  {
   "cell_type": "code",
   "execution_count": 1,
   "id": "6d24d8c8",
   "metadata": {},
   "outputs": [],
   "source": [
    "import numpy as np\n",
    "import pandas as pd\n",
    "import matplotlib as plt\n",
    "import seaborn as sns\n",
    "%matplotlib notebook"
   ]
  },
  {
   "cell_type": "code",
   "execution_count": 2,
   "id": "404bd2e3",
   "metadata": {},
   "outputs": [],
   "source": [
    "dataset=pd.read_csv('dataSet_Test.csv')\n"
   ]
  },
  {
   "cell_type": "code",
   "execution_count": 3,
   "id": "594fa2e9",
   "metadata": {},
   "outputs": [
    {
     "data": {
      "text/html": [
       "<div>\n",
       "<style scoped>\n",
       "    .dataframe tbody tr th:only-of-type {\n",
       "        vertical-align: middle;\n",
       "    }\n",
       "\n",
       "    .dataframe tbody tr th {\n",
       "        vertical-align: top;\n",
       "    }\n",
       "\n",
       "    .dataframe thead th {\n",
       "        text-align: right;\n",
       "    }\n",
       "</style>\n",
       "<table border=\"1\" class=\"dataframe\">\n",
       "  <thead>\n",
       "    <tr style=\"text-align: right;\">\n",
       "      <th></th>\n",
       "      <th>v1</th>\n",
       "      <th>v2</th>\n",
       "      <th>v3</th>\n",
       "      <th>v4</th>\n",
       "      <th>v5</th>\n",
       "      <th>v6</th>\n",
       "      <th>v7</th>\n",
       "      <th>v8</th>\n",
       "      <th>v9</th>\n",
       "      <th>v10</th>\n",
       "      <th>...</th>\n",
       "      <th>p92</th>\n",
       "      <th>p93</th>\n",
       "      <th>p94</th>\n",
       "      <th>p95</th>\n",
       "      <th>p96</th>\n",
       "      <th>p97</th>\n",
       "      <th>p98</th>\n",
       "      <th>p99</th>\n",
       "      <th>p100</th>\n",
       "      <th>classe</th>\n",
       "    </tr>\n",
       "  </thead>\n",
       "  <tbody>\n",
       "    <tr>\n",
       "      <th>0</th>\n",
       "      <td>-30.49</td>\n",
       "      <td>-77.84</td>\n",
       "      <td>-104.99</td>\n",
       "      <td>-125.88</td>\n",
       "      <td>-134.93</td>\n",
       "      <td>-110.91</td>\n",
       "      <td>-68.09</td>\n",
       "      <td>-28.75</td>\n",
       "      <td>23.12</td>\n",
       "      <td>87.87</td>\n",
       "      <td>...</td>\n",
       "      <td>-0.39</td>\n",
       "      <td>-31.62</td>\n",
       "      <td>7.11</td>\n",
       "      <td>56.48</td>\n",
       "      <td>111.08</td>\n",
       "      <td>108.36</td>\n",
       "      <td>85.38</td>\n",
       "      <td>50.52</td>\n",
       "      <td>10.25</td>\n",
       "      <td>ventilador</td>\n",
       "    </tr>\n",
       "    <tr>\n",
       "      <th>1</th>\n",
       "      <td>-19.70</td>\n",
       "      <td>39.83</td>\n",
       "      <td>98.32</td>\n",
       "      <td>124.43</td>\n",
       "      <td>135.91</td>\n",
       "      <td>142.18</td>\n",
       "      <td>128.95</td>\n",
       "      <td>85.09</td>\n",
       "      <td>48.53</td>\n",
       "      <td>-16.57</td>\n",
       "      <td>...</td>\n",
       "      <td>39.89</td>\n",
       "      <td>4.68</td>\n",
       "      <td>-1.73</td>\n",
       "      <td>48.02</td>\n",
       "      <td>83.30</td>\n",
       "      <td>121.16</td>\n",
       "      <td>153.70</td>\n",
       "      <td>149.40</td>\n",
       "      <td>73.34</td>\n",
       "      <td>ventilador</td>\n",
       "    </tr>\n",
       "    <tr>\n",
       "      <th>2</th>\n",
       "      <td>157.50</td>\n",
       "      <td>123.38</td>\n",
       "      <td>78.12</td>\n",
       "      <td>34.96</td>\n",
       "      <td>-21.09</td>\n",
       "      <td>-75.05</td>\n",
       "      <td>-106.39</td>\n",
       "      <td>-123.10</td>\n",
       "      <td>-133.19</td>\n",
       "      <td>-126.93</td>\n",
       "      <td>...</td>\n",
       "      <td>148.21</td>\n",
       "      <td>170.89</td>\n",
       "      <td>123.77</td>\n",
       "      <td>51.51</td>\n",
       "      <td>13.55</td>\n",
       "      <td>-27.72</td>\n",
       "      <td>-17.85</td>\n",
       "      <td>13.65</td>\n",
       "      <td>52.88</td>\n",
       "      <td>ventilador</td>\n",
       "    </tr>\n",
       "    <tr>\n",
       "      <th>3</th>\n",
       "      <td>-131.45</td>\n",
       "      <td>-138.41</td>\n",
       "      <td>-117.53</td>\n",
       "      <td>-71.22</td>\n",
       "      <td>-32.93</td>\n",
       "      <td>23.12</td>\n",
       "      <td>87.52</td>\n",
       "      <td>121.99</td>\n",
       "      <td>149.14</td>\n",
       "      <td>159.93</td>\n",
       "      <td>...</td>\n",
       "      <td>-45.66</td>\n",
       "      <td>-28.99</td>\n",
       "      <td>-47.39</td>\n",
       "      <td>-29.83</td>\n",
       "      <td>-20.25</td>\n",
       "      <td>-15.04</td>\n",
       "      <td>6.72</td>\n",
       "      <td>26.17</td>\n",
       "      <td>47.61</td>\n",
       "      <td>sem carga</td>\n",
       "    </tr>\n",
       "    <tr>\n",
       "      <th>4</th>\n",
       "      <td>55.50</td>\n",
       "      <td>103.89</td>\n",
       "      <td>129.65</td>\n",
       "      <td>147.40</td>\n",
       "      <td>147.40</td>\n",
       "      <td>117.11</td>\n",
       "      <td>63.85</td>\n",
       "      <td>24.51</td>\n",
       "      <td>-39.20</td>\n",
       "      <td>-88.63</td>\n",
       "      <td>...</td>\n",
       "      <td>1.77</td>\n",
       "      <td>8.57</td>\n",
       "      <td>3.65</td>\n",
       "      <td>14.26</td>\n",
       "      <td>-14.50</td>\n",
       "      <td>14.53</td>\n",
       "      <td>-4.06</td>\n",
       "      <td>1.64</td>\n",
       "      <td>-0.06</td>\n",
       "      <td>notebook</td>\n",
       "    </tr>\n",
       "  </tbody>\n",
       "</table>\n",
       "<p>5 rows × 301 columns</p>\n",
       "</div>"
      ],
      "text/plain": [
       "       v1      v2      v3      v4      v5      v6      v7      v8      v9  \\\n",
       "0  -30.49  -77.84 -104.99 -125.88 -134.93 -110.91  -68.09  -28.75   23.12   \n",
       "1  -19.70   39.83   98.32  124.43  135.91  142.18  128.95   85.09   48.53   \n",
       "2  157.50  123.38   78.12   34.96  -21.09  -75.05 -106.39 -123.10 -133.19   \n",
       "3 -131.45 -138.41 -117.53  -71.22  -32.93   23.12   87.52  121.99  149.14   \n",
       "4   55.50  103.89  129.65  147.40  147.40  117.11   63.85   24.51  -39.20   \n",
       "\n",
       "      v10  ...     p92     p93     p94    p95     p96     p97     p98     p99  \\\n",
       "0   87.87  ...   -0.39  -31.62    7.11  56.48  111.08  108.36   85.38   50.52   \n",
       "1  -16.57  ...   39.89    4.68   -1.73  48.02   83.30  121.16  153.70  149.40   \n",
       "2 -126.93  ...  148.21  170.89  123.77  51.51   13.55  -27.72  -17.85   13.65   \n",
       "3  159.93  ...  -45.66  -28.99  -47.39 -29.83  -20.25  -15.04    6.72   26.17   \n",
       "4  -88.63  ...    1.77    8.57    3.65  14.26  -14.50   14.53   -4.06    1.64   \n",
       "\n",
       "    p100      classe  \n",
       "0  10.25  ventilador  \n",
       "1  73.34  ventilador  \n",
       "2  52.88  ventilador  \n",
       "3  47.61   sem carga  \n",
       "4  -0.06    notebook  \n",
       "\n",
       "[5 rows x 301 columns]"
      ]
     },
     "execution_count": 3,
     "metadata": {},
     "output_type": "execute_result"
    }
   ],
   "source": [
    "dataset.head()"
   ]
  },
  {
   "cell_type": "code",
   "execution_count": 4,
   "id": "2c9017b4",
   "metadata": {},
   "outputs": [
    {
     "name": "stdout",
     "output_type": "stream",
     "text": [
      "<class 'pandas.core.frame.DataFrame'>\n",
      "RangeIndex: 4800 entries, 0 to 4799\n",
      "Columns: 301 entries, v1 to classe\n",
      "dtypes: float64(300), object(1)\n",
      "memory usage: 11.0+ MB\n"
     ]
    }
   ],
   "source": [
    "dataset.info()"
   ]
  },
  {
   "cell_type": "code",
   "execution_count": 5,
   "id": "906f751f",
   "metadata": {},
   "outputs": [],
   "source": [
    "X=dataset.iloc[:,1:100]\n"
   ]
  },
  {
   "cell_type": "code",
   "execution_count": 6,
   "id": "84904ea7",
   "metadata": {},
   "outputs": [],
   "source": [
    "X=pd.get_dummies(X)"
   ]
  },
  {
   "cell_type": "code",
   "execution_count": 7,
   "id": "8ee64dba",
   "metadata": {},
   "outputs": [],
   "source": [
    "X=X.values\n"
   ]
  },
  {
   "cell_type": "code",
   "execution_count": 8,
   "id": "1f22bf19",
   "metadata": {},
   "outputs": [
    {
     "data": {
      "text/plain": [
       "array([[ -77.84, -104.99, -125.88, ...,  117.11,   71.16,   23.12],\n",
       "       [  39.83,   98.32,  124.43, ..., -142.24, -106.39,  -66.7 ],\n",
       "       [ 123.38,   78.12,   34.96, ...,  107.37,  135.91,  151.93],\n",
       "       ...,\n",
       "       [ 143.57,  160.28,  149.84, ...,  -39.54,    6.06,   67.33],\n",
       "       [ 107.37,  134.87,  156.45, ...,  -88.63,  -45.11,   -8.56],\n",
       "       [-111.96, -139.81, -155.47, ...,   78.47,   51.32,   -7.52]])"
      ]
     },
     "execution_count": 8,
     "metadata": {},
     "output_type": "execute_result"
    }
   ],
   "source": [
    "X"
   ]
  },
  {
   "cell_type": "code",
   "execution_count": 9,
   "id": "4c37bde4",
   "metadata": {},
   "outputs": [],
   "source": [
    "Y=dataset.iloc[:,-1].values"
   ]
  },
  {
   "cell_type": "code",
   "execution_count": 10,
   "id": "0d801257",
   "metadata": {},
   "outputs": [],
   "source": [
    "from sklearn.model_selection import train_test_split"
   ]
  },
  {
   "cell_type": "code",
   "execution_count": 11,
   "id": "c933e203",
   "metadata": {},
   "outputs": [],
   "source": [
    "X_train, X_test, Y_train, Y_test = train_test_split(X,Y, test_size =.25 , random_state=42)"
   ]
  },
  {
   "cell_type": "code",
   "execution_count": 12,
   "id": "a315e0bc",
   "metadata": {},
   "outputs": [],
   "source": [
    "from sklearn.neighbors import KNeighborsClassifier"
   ]
  },
  {
   "cell_type": "code",
   "execution_count": 13,
   "id": "61b94915",
   "metadata": {},
   "outputs": [],
   "source": [
    "KNN= KNeighborsClassifier(n_neighbors=5,\n",
    "                         weights='uniform',\n",
    "                         algorithm='kd_tree',\n",
    "                         leaf_size=30,\n",
    "                         p=2,\n",
    "                         metric='minkowski',\n",
    "                         metric_params=None,\n",
    "                         n_jobs=-1)"
   ]
  },
  {
   "cell_type": "code",
   "execution_count": 14,
   "id": "562ff3bc",
   "metadata": {},
   "outputs": [
    {
     "data": {
      "text/html": [
       "<style>#sk-container-id-1 {color: black;background-color: white;}#sk-container-id-1 pre{padding: 0;}#sk-container-id-1 div.sk-toggleable {background-color: white;}#sk-container-id-1 label.sk-toggleable__label {cursor: pointer;display: block;width: 100%;margin-bottom: 0;padding: 0.3em;box-sizing: border-box;text-align: center;}#sk-container-id-1 label.sk-toggleable__label-arrow:before {content: \"▸\";float: left;margin-right: 0.25em;color: #696969;}#sk-container-id-1 label.sk-toggleable__label-arrow:hover:before {color: black;}#sk-container-id-1 div.sk-estimator:hover label.sk-toggleable__label-arrow:before {color: black;}#sk-container-id-1 div.sk-toggleable__content {max-height: 0;max-width: 0;overflow: hidden;text-align: left;background-color: #f0f8ff;}#sk-container-id-1 div.sk-toggleable__content pre {margin: 0.2em;color: black;border-radius: 0.25em;background-color: #f0f8ff;}#sk-container-id-1 input.sk-toggleable__control:checked~div.sk-toggleable__content {max-height: 200px;max-width: 100%;overflow: auto;}#sk-container-id-1 input.sk-toggleable__control:checked~label.sk-toggleable__label-arrow:before {content: \"▾\";}#sk-container-id-1 div.sk-estimator input.sk-toggleable__control:checked~label.sk-toggleable__label {background-color: #d4ebff;}#sk-container-id-1 div.sk-label input.sk-toggleable__control:checked~label.sk-toggleable__label {background-color: #d4ebff;}#sk-container-id-1 input.sk-hidden--visually {border: 0;clip: rect(1px 1px 1px 1px);clip: rect(1px, 1px, 1px, 1px);height: 1px;margin: -1px;overflow: hidden;padding: 0;position: absolute;width: 1px;}#sk-container-id-1 div.sk-estimator {font-family: monospace;background-color: #f0f8ff;border: 1px dotted black;border-radius: 0.25em;box-sizing: border-box;margin-bottom: 0.5em;}#sk-container-id-1 div.sk-estimator:hover {background-color: #d4ebff;}#sk-container-id-1 div.sk-parallel-item::after {content: \"\";width: 100%;border-bottom: 1px solid gray;flex-grow: 1;}#sk-container-id-1 div.sk-label:hover label.sk-toggleable__label {background-color: #d4ebff;}#sk-container-id-1 div.sk-serial::before {content: \"\";position: absolute;border-left: 1px solid gray;box-sizing: border-box;top: 0;bottom: 0;left: 50%;z-index: 0;}#sk-container-id-1 div.sk-serial {display: flex;flex-direction: column;align-items: center;background-color: white;padding-right: 0.2em;padding-left: 0.2em;position: relative;}#sk-container-id-1 div.sk-item {position: relative;z-index: 1;}#sk-container-id-1 div.sk-parallel {display: flex;align-items: stretch;justify-content: center;background-color: white;position: relative;}#sk-container-id-1 div.sk-item::before, #sk-container-id-1 div.sk-parallel-item::before {content: \"\";position: absolute;border-left: 1px solid gray;box-sizing: border-box;top: 0;bottom: 0;left: 50%;z-index: -1;}#sk-container-id-1 div.sk-parallel-item {display: flex;flex-direction: column;z-index: 1;position: relative;background-color: white;}#sk-container-id-1 div.sk-parallel-item:first-child::after {align-self: flex-end;width: 50%;}#sk-container-id-1 div.sk-parallel-item:last-child::after {align-self: flex-start;width: 50%;}#sk-container-id-1 div.sk-parallel-item:only-child::after {width: 0;}#sk-container-id-1 div.sk-dashed-wrapped {border: 1px dashed gray;margin: 0 0.4em 0.5em 0.4em;box-sizing: border-box;padding-bottom: 0.4em;background-color: white;}#sk-container-id-1 div.sk-label label {font-family: monospace;font-weight: bold;display: inline-block;line-height: 1.2em;}#sk-container-id-1 div.sk-label-container {text-align: center;}#sk-container-id-1 div.sk-container {/* jupyter's `normalize.less` sets `[hidden] { display: none; }` but bootstrap.min.css set `[hidden] { display: none !important; }` so we also need the `!important` here to be able to override the default hidden behavior on the sphinx rendered scikit-learn.org. See: https://github.com/scikit-learn/scikit-learn/issues/21755 */display: inline-block !important;position: relative;}#sk-container-id-1 div.sk-text-repr-fallback {display: none;}</style><div id=\"sk-container-id-1\" class=\"sk-top-container\"><div class=\"sk-text-repr-fallback\"><pre>KNeighborsClassifier(algorithm=&#x27;kd_tree&#x27;, n_jobs=-1)</pre><b>In a Jupyter environment, please rerun this cell to show the HTML representation or trust the notebook. <br />On GitHub, the HTML representation is unable to render, please try loading this page with nbviewer.org.</b></div><div class=\"sk-container\" hidden><div class=\"sk-item\"><div class=\"sk-estimator sk-toggleable\"><input class=\"sk-toggleable__control sk-hidden--visually\" id=\"sk-estimator-id-1\" type=\"checkbox\" checked><label for=\"sk-estimator-id-1\" class=\"sk-toggleable__label sk-toggleable__label-arrow\">KNeighborsClassifier</label><div class=\"sk-toggleable__content\"><pre>KNeighborsClassifier(algorithm=&#x27;kd_tree&#x27;, n_jobs=-1)</pre></div></div></div></div></div>"
      ],
      "text/plain": [
       "KNeighborsClassifier(algorithm='kd_tree', n_jobs=-1)"
      ]
     },
     "execution_count": 14,
     "metadata": {},
     "output_type": "execute_result"
    }
   ],
   "source": [
    "KNN.fit(X_train,Y_train)"
   ]
  },
  {
   "cell_type": "code",
   "execution_count": 15,
   "id": "1998e12e",
   "metadata": {},
   "outputs": [
    {
     "data": {
      "text/plain": [
       "array(['sem carga', 'sem carga', 'sem carga', ..., 'sem carga', 'tv',\n",
       "       'sem carga'], dtype=object)"
      ]
     },
     "execution_count": 15,
     "metadata": {},
     "output_type": "execute_result"
    }
   ],
   "source": [
    "KNN.predict(X_test)"
   ]
  },
  {
   "cell_type": "code",
   "execution_count": 16,
   "id": "79d8a8e1",
   "metadata": {},
   "outputs": [],
   "source": [
    "Y_pred=KNN.predict(X_test)"
   ]
  },
  {
   "cell_type": "code",
   "execution_count": 17,
   "id": "cb874c51",
   "metadata": {},
   "outputs": [],
   "source": [
    "from sklearn.metrics import classification_report, confusion_matrix"
   ]
  },
  {
   "cell_type": "code",
   "execution_count": 18,
   "id": "67052ca0",
   "metadata": {},
   "outputs": [
    {
     "name": "stdout",
     "output_type": "stream",
     "text": [
      "              precision    recall  f1-score   support\n",
      "\n",
      "    notebook       0.49      0.52      0.50       291\n",
      "   sem carga       0.60      0.79      0.68       305\n",
      "          tv       0.46      0.38      0.42       301\n",
      "  ventilador       0.67      0.52      0.59       303\n",
      "\n",
      "    accuracy                           0.56      1200\n",
      "   macro avg       0.55      0.55      0.55      1200\n",
      "weighted avg       0.55      0.56      0.55      1200\n",
      "\n"
     ]
    }
   ],
   "source": [
    "print(classification_report(Y_test.reshape(-1,1), Y_pred))"
   ]
  },
  {
   "cell_type": "code",
   "execution_count": 22,
   "id": "85a6d747",
   "metadata": {},
   "outputs": [],
   "source": [
    "from sklearn.model_selection import cross_val_score"
   ]
  },
  {
   "cell_type": "code",
   "execution_count": null,
   "id": "6003acc8",
   "metadata": {},
   "outputs": [],
   "source": []
  },
  {
   "cell_type": "code",
   "execution_count": null,
   "id": "62ab9072",
   "metadata": {},
   "outputs": [],
   "source": []
  },
  {
   "cell_type": "code",
   "execution_count": null,
   "id": "1afbb7fe",
   "metadata": {},
   "outputs": [],
   "source": []
  }
 ],
 "metadata": {
  "kernelspec": {
   "display_name": "Python 3 (ipykernel)",
   "language": "python",
   "name": "python3"
  },
  "language_info": {
   "codemirror_mode": {
    "name": "ipython",
    "version": 3
   },
   "file_extension": ".py",
   "mimetype": "text/x-python",
   "name": "python",
   "nbconvert_exporter": "python",
   "pygments_lexer": "ipython3",
   "version": "3.8.15"
  }
 },
 "nbformat": 4,
 "nbformat_minor": 5
}
